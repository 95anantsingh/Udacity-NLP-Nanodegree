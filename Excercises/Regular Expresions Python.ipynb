{
 "cells": [
  {
   "cell_type": "markdown",
   "metadata": {},
   "source": [
    "# Regular Expressions\n",
    "---\n",
    "A Regular Expression (RegEx) is a sequence of characters that defines a search pattern. \n",
    "For example--\n",
    "`^a...s$`\n",
    "\n",
    "For more reffer NLP Diary Notes or at [Programiz](https://www.programiz.com/python-programming/regex#r-prefix)"
   ]
  },
  {
   "cell_type": "code",
   "execution_count": 2,
   "metadata": {},
   "outputs": [
    {
     "name": "stdout",
     "output_type": "stream",
     "text": [
      "mn, man, maaan, main, woman.\n"
     ]
    }
   ],
   "source": [
    "import re\n",
    "text = 'mn, man, maaan, main, woman.'\n",
    "print(text)"
   ]
  },
  {
   "cell_type": "code",
   "execution_count": 5,
   "metadata": {},
   "outputs": [
    {
     "name": "stdout",
     "output_type": "stream",
     "text": [
      "['mn', 'man', 'man']\n",
      "['mn', 'man', 'maaan', 'man']\n",
      "['man', 'maaan', 'man']\n"
     ]
    }
   ],
   "source": [
    "form = re.findall('ma?n',text)      # 0 0r 1\n",
    "print(form)\n",
    "form = re.findall('ma*n',text)      # 0 or more\n",
    "print(form)\n",
    "form = re.findall('ma+n',text)      # 1 or more\n",
    "print(form)"
   ]
  },
  {
   "cell_type": "code",
   "execution_count": 29,
   "metadata": {},
   "outputs": [
    {
     "name": "stdout",
     "output_type": "stream",
     "text": [
      "['m', 'n', '', '', 'm', 'a', 'n', '', '', 'm', 'a', 'a', 'a', 'n', '', '', 'm', 'a', 'i', 'n', '', '', 'w', 'o', 'm', 'a', 'n', '', '']\n",
      "['mn', '', '', 'man', '', '', 'maaan', '', '', 'main', '', '', 'woman', '', '']\n",
      "['mn', 'man', 'maaan', 'main', 'woman']\n"
     ]
    }
   ],
   "source": [
    "\n",
    "form = re.findall('\\w?',text)      # 0 0r 1\n",
    "print(form)\n",
    "form = re.findall('\\w*',text)      # 0 or more\n",
    "print(form)\n",
    "form = re.findall('\\w+',text)      # 1 or more\n",
    "print(form)\n"
   ]
  },
  {
   "cell_type": "code",
   "execution_count": 31,
   "metadata": {},
   "outputs": [
    {
     "name": "stdout",
     "output_type": "stream",
     "text": [
      "['', 'm', 'n', '', '', 'm', 'a', 'n', '', '', 'm', 'a', 'a', 'a', 'n', '', '', 'm', 'a', 'i', 'n', '', '', 'w', 'o', 'm', 'a', 'n', '', '']\n",
      "['', 'm', 'n', '', 'm', 'a', 'n', '', 'm', 'a', 'a', 'a', 'n', '', 'm', 'a', 'i', 'n', '', 'w', 'o', 'm', 'a', 'n', '', '']\n",
      "['mn', 'man', 'maaan', 'main', 'woman', '']\n"
     ]
    }
   ],
   "source": [
    "form = re.split('\\W?',text)      # 0 0r 1\n",
    "print(form)\n",
    "form = re.split('\\W*',text)      # 0 or more\n",
    "print(form)\n",
    "form = re.split('\\W+',text)      # 1 or more\n",
    "print(form)"
   ]
  }
 ],
 "metadata": {
  "kernelspec": {
   "display_name": "Python 3",
   "language": "python",
   "name": "python3"
  },
  "language_info": {
   "codemirror_mode": {
    "name": "ipython",
    "version": 3
   },
   "file_extension": ".py",
   "mimetype": "text/x-python",
   "name": "python",
   "nbconvert_exporter": "python",
   "pygments_lexer": "ipython3",
   "version": "3.7.5"
  }
 },
 "nbformat": 4,
 "nbformat_minor": 4
}
